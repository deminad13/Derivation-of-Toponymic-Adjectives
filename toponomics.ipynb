{
 "cells": [
  {
   "cell_type": "markdown",
   "metadata": {},
   "source": [
    "## Образование прилагательных от топонимов"
   ]
  },
  {
   "cell_type": "markdown",
   "metadata": {},
   "source": [
    "Открываем текст словаря оттопонимических прилагательных:"
   ]
  },
  {
   "cell_type": "code",
   "execution_count": 342,
   "metadata": {},
   "outputs": [],
   "source": [
    "book = open('Downloads/Dict.txt', \"r\", encoding=\"utf-8\")\n",
    "text = book.read()\n",
    "\n",
    "word_list = text.split()"
   ]
  },
  {
   "cell_type": "markdown",
   "metadata": {},
   "source": [
    "Вводим топоним, от которого хотим образовать прилагательное:"
   ]
  },
  {
   "cell_type": "code",
   "execution_count": 411,
   "metadata": {},
   "outputs": [
    {
     "name": "stdout",
     "output_type": "stream",
     "text": [
      "Введите топоним: Москва\n"
     ]
    }
   ],
   "source": [
    "word = input('Введите топоним: ')"
   ]
  },
  {
   "cell_type": "code",
   "execution_count": 412,
   "metadata": {},
   "outputs": [],
   "source": [
    "word = word.upper() #переводим в верхний регистр, так как все топонимы в словаре так оформлены"
   ]
  },
  {
   "cell_type": "markdown",
   "metadata": {},
   "source": [
    "Функция поиска топонима в словаря:"
   ]
  },
  {
   "cell_type": "code",
   "execution_count": 413,
   "metadata": {},
   "outputs": [],
   "source": [
    "def dict_search(word):\n",
    "    if word.find(' ') != -1 :\n",
    "        word = word.split(' ')\n",
    "        index = word_list.index(word[1])\n",
    "    else:\n",
    "        index = word_list.index(word)\n",
    "    subStr,subIndex1, subIndex2 = sub(index)\n",
    "    modif_word = mod_word(subStr,subIndex1, subIndex2)\n",
    "    return modif_word "
   ]
  },
  {
   "cell_type": "code",
   "execution_count": 414,
   "metadata": {},
   "outputs": [],
   "source": [
    "def sub(index):\n",
    "    subList = word_list[index: index + 6]\n",
    "    subStr = \" \".join(subList)\n",
    "    subIndex1 = subStr.rfind(')')\n",
    "    subIndex2 = subStr.find(' ', subIndex1+2)\n",
    "    return subStr,subIndex1, subIndex2"
   ]
  },
  {
   "cell_type": "code",
   "execution_count": 415,
   "metadata": {},
   "outputs": [],
   "source": [
    "def mod_word(subStr,subIndex1, subIndex2):\n",
    "    modif_word = subStr[subIndex1+2:subIndex2]\n",
    "    modif_word = modif_word.replace(',','')\n",
    "    modif_word = modif_word.replace('.','')\n",
    "    modif_word = modif_word.replace(';','')\n",
    "    return modif_word "
   ]
  },
  {
   "cell_type": "markdown",
   "metadata": {},
   "source": [
    "Функция обработки топонима словообразовательным алгоритмом.\n",
    "Нужна для тех случаев, когда топонима нет в словаре."
   ]
  },
  {
   "cell_type": "code",
   "execution_count": 416,
   "metadata": {},
   "outputs": [],
   "source": [
    "def algorythm(word):\n",
    "    word = word.lower()\n",
    "    if word.endswith('ск') == True:\n",
    "        word = word + 'ий'\n",
    "        print(word)\n",
    "    elif word.endswith( ('с', 'ц')) == True:\n",
    "        word = word + 'кий'\n",
    "        print(word)\n",
    "    elif word.endswith('га') == True:\n",
    "        word = word[0:-2]+'жский'\n",
    "        print (word)\n",
    "    elif word.endswith('г' ) == True:\n",
    "        word = word[0:-1]+'жский'\n",
    "        print (word)\n",
    "    elif word.endswith('л') == True:\n",
    "        word = word+'ьский'\n",
    "        print (word)\n",
    "    elif word.endswith('ея' ) == True:\n",
    "        word = word[0:-2]+'ейский'\n",
    "        print (word)\n",
    "    elif word.endswith('о') == True:\n",
    "        word = word[0:-1]+'ский'\n",
    "        print (word)\n",
    "    elif word.endswith( ('ое' , 'ка' , 'ия')) == True:\n",
    "        word = word[0:-2]+'ский'\n",
    "        print (word)\n",
    "    elif word.endswith(('и' , 'ы' , 'а' , 'я' )) == True:\n",
    "        word = word[0:-1]+'инский'\n",
    "        print (word)\n",
    "    else :\n",
    "        word = word+'ский'\n",
    "        print (word)"
   ]
  },
  {
   "cell_type": "code",
   "execution_count": 417,
   "metadata": {},
   "outputs": [],
   "source": [
    "def main():\n",
    "    try:\n",
    "        modif_word = dict_search(word)\n",
    "        print(modif_word)\n",
    "    except Exception:\n",
    "        modif_word = algorythm(word)"
   ]
  },
  {
   "cell_type": "markdown",
   "metadata": {},
   "source": [
    "Возвращаем искомое оттопонимическое прилагательное:"
   ]
  },
  {
   "cell_type": "code",
   "execution_count": 418,
   "metadata": {},
   "outputs": [
    {
     "name": "stdout",
     "output_type": "stream",
     "text": [
      "московский\n"
     ]
    }
   ],
   "source": [
    "if __name__ == \"__main__\":\n",
    "     main() "
   ]
  },
  {
   "cell_type": "code",
   "execution_count": null,
   "metadata": {},
   "outputs": [],
   "source": []
  }
 ],
 "metadata": {
  "kernelspec": {
   "display_name": "Python 3",
   "language": "python",
   "name": "python3"
  },
  "language_info": {
   "codemirror_mode": {
    "name": "ipython",
    "version": 3
   },
   "file_extension": ".py",
   "mimetype": "text/x-python",
   "name": "python",
   "nbconvert_exporter": "python",
   "pygments_lexer": "ipython3",
   "version": "3.7.0"
  }
 },
 "nbformat": 4,
 "nbformat_minor": 2
}
